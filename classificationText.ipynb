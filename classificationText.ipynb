{
 "cells": [
  {
   "cell_type": "code",
   "execution_count": null,
   "id": "excellent-survival",
   "metadata": {},
   "outputs": [],
   "source": [
    "https://keras.io/api/losses/probabilistic_losses/"
   ]
  },
  {
   "cell_type": "code",
   "execution_count": 1,
   "id": "funky-contents",
   "metadata": {},
   "outputs": [],
   "source": [
    "import numpy as np # algèbre linéaire\n",
    "import pandas as pd # procès de données, CSV file I/O (e.g. pd.read_csv)\n",
    "\n",
    "# import module time\n",
    "from time import time"
   ]
  },
  {
   "cell_type": "code",
   "execution_count": 2,
   "id": "promotional-breakdown",
   "metadata": {},
   "outputs": [],
   "source": [
    "# vectorisation\n",
    "from sklearn.feature_extraction.text import CountVectorizer\n",
    "from sklearn.feature_extraction.text import TfidfTransformer\n",
    "\n",
    "# import de NLK\n",
    "#import nltk\n",
    "\n",
    "#import train_split\n",
    "from  sklearn.model_selection import train_test_split\n",
    "\n",
    "# learning models\n",
    "from sklearn.linear_model import SGDClassifier\n",
    "\n",
    "from keras.backend import clear_session"
   ]
  },
  {
   "cell_type": "code",
   "execution_count": 3,
   "id": "lyric-sleeve",
   "metadata": {},
   "outputs": [],
   "source": [
    "#import metrics\n",
    "from sklearn.metrics import confusion_matrix\n",
    "from sklearn.metrics import accuracy_score\n",
    "from sklearn import metrics\n",
    "from sklearn.metrics import classification_report\n",
    "from sklearn.metrics import f1_score"
   ]
  },
  {
   "cell_type": "code",
   "execution_count": 4,
   "id": "dynamic-council",
   "metadata": {},
   "outputs": [],
   "source": [
    "# Chargement des données qui seront utilisées.\n",
    "data = pd.read_csv('text_emotion.csv')"
   ]
  },
  {
   "cell_type": "code",
   "execution_count": 5,
   "id": "rising-lafayette",
   "metadata": {},
   "outputs": [
    {
     "data": {
      "text/html": [
       "<div>\n",
       "<style scoped>\n",
       "    .dataframe tbody tr th:only-of-type {\n",
       "        vertical-align: middle;\n",
       "    }\n",
       "\n",
       "    .dataframe tbody tr th {\n",
       "        vertical-align: top;\n",
       "    }\n",
       "\n",
       "    .dataframe thead th {\n",
       "        text-align: right;\n",
       "    }\n",
       "</style>\n",
       "<table border=\"1\" class=\"dataframe\">\n",
       "  <thead>\n",
       "    <tr style=\"text-align: right;\">\n",
       "      <th></th>\n",
       "      <th>tweet_id</th>\n",
       "      <th>sentiment</th>\n",
       "      <th>author</th>\n",
       "      <th>content</th>\n",
       "    </tr>\n",
       "  </thead>\n",
       "  <tbody>\n",
       "    <tr>\n",
       "      <th>0</th>\n",
       "      <td>1956967341</td>\n",
       "      <td>empty</td>\n",
       "      <td>xoshayzers</td>\n",
       "      <td>@tiffanylue i know  i was listenin to bad habi...</td>\n",
       "    </tr>\n",
       "    <tr>\n",
       "      <th>1</th>\n",
       "      <td>1956967666</td>\n",
       "      <td>sadness</td>\n",
       "      <td>wannamama</td>\n",
       "      <td>Layin n bed with a headache  ughhhh...waitin o...</td>\n",
       "    </tr>\n",
       "    <tr>\n",
       "      <th>2</th>\n",
       "      <td>1956967696</td>\n",
       "      <td>sadness</td>\n",
       "      <td>coolfunky</td>\n",
       "      <td>Funeral ceremony...gloomy friday...</td>\n",
       "    </tr>\n",
       "    <tr>\n",
       "      <th>3</th>\n",
       "      <td>1956967789</td>\n",
       "      <td>enthusiasm</td>\n",
       "      <td>czareaquino</td>\n",
       "      <td>wants to hang out with friends SOON!</td>\n",
       "    </tr>\n",
       "    <tr>\n",
       "      <th>4</th>\n",
       "      <td>1956968416</td>\n",
       "      <td>neutral</td>\n",
       "      <td>xkilljoyx</td>\n",
       "      <td>@dannycastillo We want to trade with someone w...</td>\n",
       "    </tr>\n",
       "  </tbody>\n",
       "</table>\n",
       "</div>"
      ],
      "text/plain": [
       "     tweet_id   sentiment       author  \\\n",
       "0  1956967341       empty   xoshayzers   \n",
       "1  1956967666     sadness    wannamama   \n",
       "2  1956967696     sadness    coolfunky   \n",
       "3  1956967789  enthusiasm  czareaquino   \n",
       "4  1956968416     neutral    xkilljoyx   \n",
       "\n",
       "                                             content  \n",
       "0  @tiffanylue i know  i was listenin to bad habi...  \n",
       "1  Layin n bed with a headache  ughhhh...waitin o...  \n",
       "2                Funeral ceremony...gloomy friday...  \n",
       "3               wants to hang out with friends SOON!  \n",
       "4  @dannycastillo We want to trade with someone w...  "
      ]
     },
     "execution_count": 5,
     "metadata": {},
     "output_type": "execute_result"
    }
   ],
   "source": [
    "data.head(5)"
   ]
  },
  {
   "cell_type": "code",
   "execution_count": 6,
   "id": "breathing-warner",
   "metadata": {},
   "outputs": [
    {
     "name": "stdout",
     "output_type": "stream",
     "text": [
      "['empty' 'sadness' 'enthusiasm' 'neutral' 'worry' 'surprise' 'love' 'fun'\n",
      " 'hate' 'happiness' 'boredom' 'relief' 'anger']\n"
     ]
    },
    {
     "data": {
      "text/plain": [
       "array([ 2, 10,  3,  8, 12, 11,  7,  4,  6,  5,  1,  9,  0], dtype=int8)"
      ]
     },
     "execution_count": 6,
     "metadata": {},
     "output_type": "execute_result"
    }
   ],
   "source": [
    "#encodage des données\n",
    "# remplacer ['sadness' 'anger' 'love' 'surprise' 'fear' 'happy'..] par 1, 2,3, 4, 5\n",
    "listEmotion = data[\"sentiment\"].unique()\n",
    "print(listEmotion)\n",
    "\n",
    "data[\"sentiment\"] = data[\"sentiment\"].astype('category').cat.codes \n",
    "\n",
    "# Préparation des données\n",
    "# preparation des targets\n",
    "corpus = np.array(data[\"content\"])\n",
    "targets = np.array(data[\"sentiment\"])\n",
    "\n",
    "#la liste des émotions\n",
    "listEmotion1 = data[\"sentiment\"].unique()\n",
    "listEmotion1"
   ]
  },
  {
   "cell_type": "code",
   "execution_count": 7,
   "id": "collected-apache",
   "metadata": {},
   "outputs": [],
   "source": [
    "from sklearn.feature_extraction.text import CountVectorizer\n",
    "from sklearn.model_selection import train_test_split"
   ]
  },
  {
   "cell_type": "code",
   "execution_count": 8,
   "id": "synthetic-healing",
   "metadata": {},
   "outputs": [],
   "source": [
    "cv = CountVectorizer()\n",
    "X= cv.fit_transform(corpus)"
   ]
  },
  {
   "cell_type": "code",
   "execution_count": 9,
   "id": "former-virgin",
   "metadata": {},
   "outputs": [
    {
     "name": "stdout",
     "output_type": "stream",
     "text": [
      "(40000, 48212)\n",
      "vocabulary size; 48212\n"
     ]
    }
   ],
   "source": [
    "words = cv.get_feature_names()\n",
    "\n",
    "print(X.shape)\n",
    "print(\"vocabulary size; %d\" % len(words) )"
   ]
  },
  {
   "cell_type": "code",
   "execution_count": 10,
   "id": "massive-spirituality",
   "metadata": {},
   "outputs": [],
   "source": [
    "X_train, X_test, y_train, y_test = train_test_split(X,targets, test_size =0.2, random_state=42)\n"
   ]
  },
  {
   "cell_type": "code",
   "execution_count": 11,
   "id": "intellectual-stations",
   "metadata": {},
   "outputs": [],
   "source": [
    "\n",
    "\n",
    "def learning (X_train, X_test, y_train, y_test, mod) :\n",
    "    #learn \n",
    "    start = time()\n",
    "    mod.fit(X_train,y_train)\n",
    "    T= time()-start\n",
    "   \n",
    "    #predict\n",
    "    y_pred = model.predict(X_test)\n",
    "    f1Score = f1_score(y_test, y_pred, average='weighted')\n",
    "    return (T, f1Score)"
   ]
  },
  {
   "cell_type": "code",
   "execution_count": 12,
   "id": "sufficient-tooth",
   "metadata": {},
   "outputs": [],
   "source": [
    "model = SGDClassifier(max_iter=1000, tol=1e-3)"
   ]
  },
  {
   "cell_type": "code",
   "execution_count": 13,
   "id": "considered-section",
   "metadata": {},
   "outputs": [],
   "source": [
    "time, f1_score = learning (X_train, X_test, y_train, y_test, model)"
   ]
  },
  {
   "cell_type": "code",
   "execution_count": 14,
   "id": "least-company",
   "metadata": {},
   "outputs": [
    {
     "data": {
      "text/plain": [
       "2.537538528442383"
      ]
     },
     "execution_count": 14,
     "metadata": {},
     "output_type": "execute_result"
    }
   ],
   "source": [
    "time"
   ]
  },
  {
   "cell_type": "code",
   "execution_count": 15,
   "id": "drawn-environment",
   "metadata": {},
   "outputs": [
    {
     "name": "stdout",
     "output_type": "stream",
     "text": [
      "f1_score: 0.3054\n"
     ]
    }
   ],
   "source": [
    " print(\"f1_score:\", round(f1_score,4))"
   ]
  },
  {
   "cell_type": "code",
   "execution_count": 16,
   "id": "fundamental-enemy",
   "metadata": {},
   "outputs": [
    {
     "name": "stdout",
     "output_type": "stream",
     "text": [
      "Accuracy train: 0.8101875\n",
      "Accuracy test: 0.327625\n"
     ]
    }
   ],
   "source": [
    "score = model.score(X_train, y_train)\n",
    "print(\"Accuracy train:\", score)\n",
    "\n",
    "score = model.score(X_test, y_test)\n",
    "print(\"Accuracy test:\", score)\n"
   ]
  },
  {
   "cell_type": "code",
   "execution_count": 17,
   "id": "helpful-hebrew",
   "metadata": {},
   "outputs": [],
   "source": [
    "\n",
    "#print(classification_report(y_test, y_pred))"
   ]
  },
  {
   "cell_type": "code",
   "execution_count": 18,
   "id": "dying-victoria",
   "metadata": {},
   "outputs": [],
   "source": [
    "# Deep learnning\n",
    "from tensorflow import keras\n",
    "\n",
    "input_dim = X_train.shape[1]  # Number of features"
   ]
  },
  {
   "cell_type": "code",
   "execution_count": 19,
   "id": "significant-italic",
   "metadata": {},
   "outputs": [
    {
     "data": {
      "text/plain": [
       "48212"
      ]
     },
     "execution_count": 19,
     "metadata": {},
     "output_type": "execute_result"
    }
   ],
   "source": [
    "input_dim"
   ]
  },
  {
   "cell_type": "code",
   "execution_count": 20,
   "id": "written-springer",
   "metadata": {},
   "outputs": [],
   "source": [
    "# Create the model \n",
    "model = keras.Sequential()\n",
    "model.add(keras.layers.Dense(units = 26, activation = 'relu', input_dim=input_dim))\n",
    "\n",
    "model.add(keras.layers.Dense(units = 13, activation='softmax'))\n",
    "\n",
    "model.compile(loss='sparse_categorical_crossentropy', optimizer=\"adam\",metrics=['accuracy'])\n",
    "\n",
    "\n"
   ]
  },
  {
   "cell_type": "code",
   "execution_count": 21,
   "id": "modified-manhattan",
   "metadata": {},
   "outputs": [
    {
     "name": "stdout",
     "output_type": "stream",
     "text": [
      "Model: \"sequential\"\n",
      "_________________________________________________________________\n",
      "Layer (type)                 Output Shape              Param #   \n",
      "=================================================================\n",
      "dense (Dense)                (None, 26)                1253538   \n",
      "_________________________________________________________________\n",
      "dense_1 (Dense)              (None, 13)                351       \n",
      "=================================================================\n",
      "Total params: 1,253,889\n",
      "Trainable params: 1,253,889\n",
      "Non-trainable params: 0\n",
      "_________________________________________________________________\n"
     ]
    }
   ],
   "source": [
    "# Display the model\n",
    "model.summary()"
   ]
  },
  {
   "cell_type": "code",
   "execution_count": 22,
   "id": "unlike-academy",
   "metadata": {},
   "outputs": [
    {
     "name": "stdout",
     "output_type": "stream",
     "text": [
      "<class 'scipy.sparse.csr.csr_matrix'>\n",
      "[ 8  4 12]\n"
     ]
    }
   ],
   "source": [
    "print(type(X_train))\n",
    "print(y_train[:3])"
   ]
  },
  {
   "cell_type": "code",
   "execution_count": 23,
   "id": "waiting-success",
   "metadata": {},
   "outputs": [
    {
     "name": "stdout",
     "output_type": "stream",
     "text": [
      "<class 'scipy.sparse.csr.csr_matrix'>\n",
      "<class 'numpy.ndarray'>\n"
     ]
    }
   ],
   "source": [
    "#reordering the sparse matrice indices\n",
    "X_train = X_train.sorted_indices()\n",
    "X_test = X_test.sorted_indices()\n",
    "\n",
    "print(type(X_test))\n",
    "print(type(y_test))"
   ]
  },
  {
   "cell_type": "code",
   "execution_count": 24,
   "id": "three-acceptance",
   "metadata": {},
   "outputs": [
    {
     "name": "stdout",
     "output_type": "stream",
     "text": [
      "Epoch 1/25\n",
      "32/32 [==============================] - 3s 74ms/step - loss: 2.5084 - accuracy: 0.1850 - val_loss: 2.3319 - val_accuracy: 0.2733\n",
      "Epoch 2/25\n",
      "32/32 [==============================] - 1s 40ms/step - loss: 2.2490 - accuracy: 0.3516 - val_loss: 2.1781 - val_accuracy: 0.3010\n",
      "Epoch 3/25\n",
      "32/32 [==============================] - 1s 36ms/step - loss: 2.0746 - accuracy: 0.3834 - val_loss: 2.1034 - val_accuracy: 0.3211\n",
      "Epoch 4/25\n",
      "32/32 [==============================] - 1s 39ms/step - loss: 1.9433 - accuracy: 0.4384 - val_loss: 2.0440 - val_accuracy: 0.3389\n",
      "Epoch 5/25\n",
      "32/32 [==============================] - 2s 45ms/step - loss: 1.8095 - accuracy: 0.4897 - val_loss: 1.9986 - val_accuracy: 0.3479\n",
      "Epoch 6/25\n",
      "32/32 [==============================] - 2s 50ms/step - loss: 1.6629 - accuracy: 0.5335 - val_loss: 1.9678 - val_accuracy: 0.3496\n",
      "Epoch 7/25\n",
      "32/32 [==============================] - 2s 50ms/step - loss: 1.5234 - accuracy: 0.5728 - val_loss: 1.9501 - val_accuracy: 0.3543\n",
      "Epoch 8/25\n",
      "32/32 [==============================] - 2s 47ms/step - loss: 1.3958 - accuracy: 0.6167 - val_loss: 1.9436 - val_accuracy: 0.3529\n",
      "Epoch 9/25\n",
      "32/32 [==============================] - 1s 39ms/step - loss: 1.2852 - accuracy: 0.6506 - val_loss: 1.9458 - val_accuracy: 0.3499\n",
      "Epoch 10/25\n",
      "32/32 [==============================] - 1s 42ms/step - loss: 1.1732 - accuracy: 0.6874 - val_loss: 1.9529 - val_accuracy: 0.3496\n",
      "Epoch 11/25\n",
      "32/32 [==============================] - 1s 41ms/step - loss: 1.0712 - accuracy: 0.7202 - val_loss: 1.9657 - val_accuracy: 0.3480\n",
      "Epoch 12/25\n",
      "32/32 [==============================] - 2s 47ms/step - loss: 0.9831 - accuracy: 0.7481 - val_loss: 1.9822 - val_accuracy: 0.3433\n",
      "Epoch 13/25\n",
      "32/32 [==============================] - 2s 50ms/step - loss: 0.9046 - accuracy: 0.7743 - val_loss: 2.0028 - val_accuracy: 0.3384\n",
      "Epoch 14/25\n",
      "32/32 [==============================] - 1s 39ms/step - loss: 0.8393 - accuracy: 0.7976 - val_loss: 2.0254 - val_accuracy: 0.3344\n",
      "Epoch 15/25\n",
      "32/32 [==============================] - 2s 44ms/step - loss: 0.7820 - accuracy: 0.8126 - val_loss: 2.0480 - val_accuracy: 0.3321\n",
      "Epoch 16/25\n",
      "32/32 [==============================] - 1s 41ms/step - loss: 0.7176 - accuracy: 0.8346 - val_loss: 2.0746 - val_accuracy: 0.3282\n",
      "Epoch 17/25\n",
      "32/32 [==============================] - 2s 42ms/step - loss: 0.6655 - accuracy: 0.8456 - val_loss: 2.0998 - val_accuracy: 0.3248\n",
      "Epoch 18/25\n",
      "32/32 [==============================] - 1s 33ms/step - loss: 0.6134 - accuracy: 0.8612 - val_loss: 2.1266 - val_accuracy: 0.3252\n",
      "Epoch 19/25\n",
      "32/32 [==============================] - 2s 45ms/step - loss: 0.5814 - accuracy: 0.8660 - val_loss: 2.1554 - val_accuracy: 0.3220\n",
      "Epoch 20/25\n",
      "32/32 [==============================] - 2s 46ms/step - loss: 0.5467 - accuracy: 0.8750 - val_loss: 2.1845 - val_accuracy: 0.3189\n",
      "Epoch 21/25\n",
      "32/32 [==============================] - 2s 44ms/step - loss: 0.5038 - accuracy: 0.8878 - val_loss: 2.2123 - val_accuracy: 0.3174\n",
      "Epoch 22/25\n",
      "32/32 [==============================] - 2s 41ms/step - loss: 0.4801 - accuracy: 0.8943 - val_loss: 2.2449 - val_accuracy: 0.3155\n",
      "Epoch 23/25\n",
      "32/32 [==============================] - 1s 38ms/step - loss: 0.4527 - accuracy: 0.8997 - val_loss: 2.2727 - val_accuracy: 0.3130\n",
      "Epoch 24/25\n",
      "32/32 [==============================] - 2s 49ms/step - loss: 0.4270 - accuracy: 0.9040 - val_loss: 2.3030 - val_accuracy: 0.3122\n",
      "Epoch 25/25\n",
      "32/32 [==============================] - 2s 45ms/step - loss: 0.4099 - accuracy: 0.9090 - val_loss: 2.3356 - val_accuracy: 0.3099\n"
     ]
    }
   ],
   "source": [
    "# Training\n",
    "#fit=model.fit(x_data, y_data, epochs=100, verbose=1)\n",
    "\n",
    "history = model.fit(X_train, y_train,\n",
    "                        epochs=25,\n",
    "                        verbose=True,\n",
    "                        validation_data=(X_test, y_test),\n",
    "                        batch_size=1000)"
   ]
  },
  {
   "cell_type": "markdown",
   "id": "fatty-lodging",
   "metadata": {},
   "source": [
    "Si on réexecute la méthode fit(), on démarre avec les poids calculés lors de la formation précédente.C'est pour cette raison, qu'on appelle clear_session() avant de recommencer à former le modèle.\n",
    "On  utilise la méthode .evaluate() pour mesurer la précision du modèle.\n"
   ]
  },
  {
   "cell_type": "code",
   "execution_count": 25,
   "id": "material-remedy",
   "metadata": {},
   "outputs": [],
   "source": [
    "from keras.backend import clear_session\n",
    "clear_session()"
   ]
  },
  {
   "cell_type": "code",
   "execution_count": 26,
   "id": "manufactured-hotel",
   "metadata": {},
   "outputs": [
    {
     "name": "stdout",
     "output_type": "stream",
     "text": [
      "1000/1000 [==============================] - 5s 5ms/step - loss: 0.3836 - accuracy: 0.9151\n",
      "Training Accuracy: 0.9151\n",
      "250/250 [==============================] - 1s 4ms/step - loss: 2.3356 - accuracy: 0.3099\n",
      "Testing Accuracy:  0.3099\n"
     ]
    }
   ],
   "source": [
    "loss, accuracy = model.evaluate(X_train, y_train, verbose=True)\n",
    "print(\"Training Accuracy: {:.4f}\".format(accuracy))\n",
    "loss, accuracy = model.evaluate(X_test, y_test, verbose=True)\n",
    "print(\"Testing Accuracy:  {:.4f}\".format(accuracy))\n"
   ]
  },
  {
   "cell_type": "code",
   "execution_count": 27,
   "id": "metropolitan-culture",
   "metadata": {},
   "outputs": [],
   "source": [
    "import matplotlib.pyplot as plt\n",
    "plt.style.use('ggplot')\n",
    "\n",
    "def plot_history(history):\n",
    "    acc = history.history['accuracy']\n",
    "    val_acc = history.history['val_accuracy']\n",
    "    loss = history.history['loss']\n",
    "    val_loss = history.history['val_loss']\n",
    "    x = range(1, len(acc) + 1)\n",
    "\n",
    "    plt.figure(figsize=(12, 5))\n",
    "    plt.subplot(1, 2, 1)\n",
    "    plt.plot(x, acc, 'b', label='Training acc')\n",
    "    plt.plot(x, val_acc, 'r', label='Validation acc')\n",
    "    plt.title('Training and validation accuracy')\n",
    "    plt.legend()\n",
    "    plt.subplot(1, 2, 2)\n",
    "    plt.plot(x, loss, 'b', label='Training loss')\n",
    "    plt.plot(x, val_loss, 'r', label='Validation loss')\n",
    "    plt.title('Training and validation loss')\n",
    "    plt.legend()\n"
   ]
  },
  {
   "cell_type": "code",
   "execution_count": 29,
   "id": "light-setup",
   "metadata": {},
   "outputs": [
    {
     "name": "stdout",
     "output_type": "stream",
     "text": [
      "dict_keys(['loss', 'accuracy', 'val_loss', 'val_accuracy'])\n"
     ]
    }
   ],
   "source": [
    "print(history.history.keys())"
   ]
  },
  {
   "cell_type": "code",
   "execution_count": 29,
   "id": "stretch-feedback",
   "metadata": {
    "scrolled": false
   },
   "outputs": [
    {
     "data": {
      "image/png": "[encoded data removed]",
      "text/plain": [
       "<Figure size 864x360 with 2 Axes>"
      ]
     },
     "metadata": {},
     "output_type": "display_data"
    }
   ],
   "source": [
    "plot_history(history)"
   ]
  },
  {
   "cell_type": "code",
   "execution_count": 30,
   "id": "obvious-thursday",
   "metadata": {},
   "outputs": [],
   "source": [
    "# Create the model \n",
    "clear_session()\n",
    "model = keras.Sequential()\n",
    "model.add(keras.layers.Dense(units = 64, activation = 'relu', input_dim=input_dim))\n",
    "\n",
    "model.add(keras.layers.Dense(units = 64, activation = 'relu'))\n",
    "\n",
    "model.add(keras.layers.Dense(units = 13, activation='softmax'))\n",
    "\n",
    "model.compile(loss='sparse_categorical_crossentropy', optimizer=\"adam\",metrics=['accuracy'])\n"
   ]
  },
  {
   "cell_type": "code",
   "execution_count": 31,
   "id": "middle-newfoundland",
   "metadata": {},
   "outputs": [
    {
     "name": "stdout",
     "output_type": "stream",
     "text": [
      "Model: \"sequential\"\n",
      "_________________________________________________________________\n",
      "Layer (type)                 Output Shape              Param #   \n",
      "=================================================================\n",
      "dense (Dense)                (None, 64)                3085632   \n",
      "_________________________________________________________________\n",
      "dense_1 (Dense)              (None, 64)                4160      \n",
      "_________________________________________________________________\n",
      "dense_2 (Dense)              (None, 13)                845       \n",
      "=================================================================\n",
      "Total params: 3,090,637\n",
      "Trainable params: 3,090,637\n",
      "Non-trainable params: 0\n",
      "_________________________________________________________________\n"
     ]
    }
   ],
   "source": [
    "# Display the model\n",
    "model.summary()"
   ]
  },
  {
   "cell_type": "code",
   "execution_count": 32,
   "id": "mental-element",
   "metadata": {},
   "outputs": [
    {
     "name": "stdout",
     "output_type": "stream",
     "text": [
      "Epoch 1/3\n",
      "32/32 [==============================] - 3s 78ms/step - loss: 2.4973 - accuracy: 0.2094 - val_loss: 2.2041 - val_accuracy: 0.2661\n",
      "Epoch 2/3\n",
      "32/32 [==============================] - 2s 71ms/step - loss: 2.0966 - accuracy: 0.3397 - val_loss: 2.0349 - val_accuracy: 0.3274\n",
      "Epoch 3/3\n",
      "32/32 [==============================] - 2s 74ms/step - loss: 1.7944 - accuracy: 0.4519 - val_loss: 1.9546 - val_accuracy: 0.3454\n"
     ]
    }
   ],
   "source": [
    "#from keras.backend import clear_session\n",
    "#clear_session()\n",
    "# Training\n",
    "#fit=model.fit(x_data, y_data, epochs=100, verbose=1)\n",
    "\n",
    "history = model.fit(X_train, y_train,\n",
    "                        epochs=3,\n",
    "                        verbose=True,\n",
    "                        validation_data=(X_test, y_test),\n",
    "                        batch_size=1000)"
   ]
  },
  {
   "cell_type": "code",
   "execution_count": 33,
   "id": "french-cable",
   "metadata": {},
   "outputs": [
    {
     "name": "stdout",
     "output_type": "stream",
     "text": [
      "1000/1000 [==============================] - 6s 5ms/step - loss: 1.5467 - accuracy: 0.5279\n",
      "Training Accuracy: 0.5279\n",
      "250/250 [==============================] - 2s 6ms/step - loss: 1.9546 - accuracy: 0.3454\n",
      "Testing Accuracy:  0.3454\n"
     ]
    }
   ],
   "source": [
    "loss, accuracy = model.evaluate(X_train, y_train, verbose=True)\n",
    "print(\"Training Accuracy: {:.4f}\".format(accuracy))\n",
    "loss, accuracy = model.evaluate(X_test, y_test, verbose=True)\n",
    "print(\"Testing Accuracy:  {:.4f}\".format(accuracy))"
   ]
  },
  {
   "cell_type": "code",
   "execution_count": 34,
   "id": "foster-indianapolis",
   "metadata": {},
   "outputs": [
    {
     "data": {
      "image/png": "[encoded data removed]",
      "text/plain": [
       "<Figure size 864x360 with 2 Axes>"
      ]
     },
     "metadata": {},
     "output_type": "display_data"
    }
   ],
   "source": [
    "plot_history(history)"
   ]
  },
  {
   "cell_type": "code",
   "execution_count": 35,
   "id": "affiliated-integration",
   "metadata": {},
   "outputs": [],
   "source": [
    "# Create the model \n",
    "clear_session()\n",
    "\n",
    "model = keras.Sequential()\n",
    "model.add(keras.layers.Dense(units = 26, activation = 'relu', input_dim=input_dim))\n",
    "\n",
    "#model.add(keras.layers.Dense(units = 64, activation = 'relu'))\n",
    "\n",
    "model.add(keras.layers.Dense(units = 13, activation='softmax'))\n",
    "\n",
    "model.compile(loss='sparse_categorical_crossentropy', optimizer=\"adam\",metrics=['accuracy'])\n"
   ]
  },
  {
   "cell_type": "code",
   "execution_count": 36,
   "id": "social-talent",
   "metadata": {},
   "outputs": [
    {
     "name": "stdout",
     "output_type": "stream",
     "text": [
      "Epoch 1/3\n",
      "32/32 [==============================] - 2s 51ms/step - loss: 2.5131 - accuracy: 0.1977 - val_loss: 2.3490 - val_accuracy: 0.2484\n",
      "Epoch 2/3\n",
      "32/32 [==============================] - 2s 45ms/step - loss: 2.2627 - accuracy: 0.2819 - val_loss: 2.1934 - val_accuracy: 0.2941\n",
      "Epoch 3/3\n",
      "32/32 [==============================] - 2s 42ms/step - loss: 2.0765 - accuracy: 0.3954 - val_loss: 2.1116 - val_accuracy: 0.3274\n"
     ]
    }
   ],
   "source": [
    "\n",
    "history = model.fit(X_train, y_train,\n",
    "                        epochs=3,\n",
    "                        verbose=True,\n",
    "                        validation_data=(X_test, y_test),\n",
    "                        batch_size=1000)\n"
   ]
  },
  {
   "cell_type": "code",
   "execution_count": 37,
   "id": "increasing-leisure",
   "metadata": {},
   "outputs": [
    {
     "name": "stdout",
     "output_type": "stream",
     "text": [
      "Model: \"sequential\"\n",
      "_________________________________________________________________\n",
      "Layer (type)                 Output Shape              Param #   \n",
      "=================================================================\n",
      "dense (Dense)                (None, 26)                1253538   \n",
      "_________________________________________________________________\n",
      "dense_1 (Dense)              (None, 13)                351       \n",
      "=================================================================\n",
      "Total params: 1,253,889\n",
      "Trainable params: 1,253,889\n",
      "Non-trainable params: 0\n",
      "_________________________________________________________________\n"
     ]
    }
   ],
   "source": [
    "# Display the model\n",
    "model.summary()"
   ]
  },
  {
   "cell_type": "code",
   "execution_count": 38,
   "id": "loving-parameter",
   "metadata": {},
   "outputs": [
    {
     "name": "stdout",
     "output_type": "stream",
     "text": [
      "1000/1000 [==============================] - 7s 7ms/step - loss: 1.9643 - accuracy: 0.4538\n",
      "Training Accuracy: 0.4538\n",
      "250/250 [==============================] - 2s 6ms/step - loss: 2.1116 - accuracy: 0.3274\n",
      "Testing Accuracy:  0.3274\n"
     ]
    }
   ],
   "source": [
    "loss, accuracy = model.evaluate(X_train, y_train, verbose=1)\n",
    "print(\"Training Accuracy: {:.4f}\".format(accuracy))\n",
    "loss, accuracy = model.evaluate(X_test, y_test, verbose=1)\n",
    "print(\"Testing Accuracy:  {:.4f}\".format(accuracy))"
   ]
  },
  {
   "cell_type": "code",
   "execution_count": 39,
   "id": "level-positive",
   "metadata": {},
   "outputs": [
    {
     "data": {
      "image/png": "[encoded data removed]",
      "text/plain": [
       "<Figure size 864x360 with 2 Axes>"
      ]
     },
     "metadata": {},
     "output_type": "display_data"
    }
   ],
   "source": [
    "plot_history(history)"
   ]
  },
  {
   "cell_type": "code",
   "execution_count": 40,
   "id": "saving-moment",
   "metadata": {},
   "outputs": [
    {
     "name": "stdout",
     "output_type": "stream",
     "text": [
      "250/250 [==============================] - 2s 6ms/step\n"
     ]
    }
   ],
   "source": [
    "y_pred = model.predict(X_test,verbose = 1)"
   ]
  },
  {
   "cell_type": "code",
   "execution_count": 41,
   "id": "uniform-round",
   "metadata": {},
   "outputs": [
    {
     "name": "stdout",
     "output_type": "stream",
     "text": [
      "              precision    recall  f1-score   support\n",
      "\n",
      "       empty       0.00      0.00      0.00        19\n",
      "     sadness       0.00      0.00      0.00        31\n",
      "  enthusiasm       0.00      0.00      0.00       162\n",
      "     neutral       0.00      0.00      0.00       163\n",
      "       worry       0.00      0.00      0.00       338\n",
      "    surprise       0.35      0.29      0.31      1028\n",
      "        love       0.00      0.00      0.00       268\n",
      "         fun       0.51      0.31      0.39       762\n",
      "        hate       0.34      0.47      0.39      1740\n",
      "   happiness       0.00      0.00      0.00       352\n",
      "     boredom       0.45      0.09      0.16      1046\n",
      "      relief       0.00      0.00      0.00       425\n",
      "       anger       0.29      0.70      0.41      1666\n",
      "\n",
      "    accuracy                           0.33      8000\n",
      "   macro avg       0.15      0.14      0.13      8000\n",
      "weighted avg       0.29      0.33      0.27      8000\n",
      "\n"
     ]
    },
    {
     "name": "stderr",
     "output_type": "stream",
     "text": [
      "/home/sacia/anaconda3/envs/tf/lib/python3.8/site-packages/sklearn/metrics/_classification.py:1221: UndefinedMetricWarning: Precision and F-score are ill-defined and being set to 0.0 in labels with no predicted samples. Use `zero_division` parameter to control this behavior.\n",
      "  _warn_prf(average, modifier, msg_start, len(result))\n"
     ]
    }
   ],
   "source": [
    "from sklearn.metrics import classification_report\n",
    "print(classification_report(y_test, y_pred.argmax(1), target_names = listEmotion))"
   ]
  },
  {
   "cell_type": "code",
   "execution_count": 42,
   "id": "sitting-attitude",
   "metadata": {},
   "outputs": [
    {
     "data": {
      "text/plain": [
       "array([ 2, 10,  3,  8, 12, 11,  7,  4,  6,  5,  1,  9,  0], dtype=int8)"
      ]
     },
     "execution_count": 42,
     "metadata": {},
     "output_type": "execute_result"
    }
   ],
   "source": [
    "listEmotion1"
   ]
  },
  {
   "cell_type": "markdown",
   "id": "eastern-agriculture",
   "metadata": {},
   "source": [
    "#### What Is a Word Embedding?\n",
    "Le texte est considéré comme une forme de données séquentielles similaires aux données de séries temporelles.\n",
    "On a représenté une séquence entière de mots comme un seul vecteur de caractéristiques.\n",
    "\n",
    "Maintenant, On représente chaque mot sous forme de vecteurs. Deux façons possibles de le faire sont one-hot encoding and word embeddings.\n",
    "\n",
    "One-hot encoding se fait en prenant un vecteur de la longueur du vocabulaire avec une entrée pour chaque mot du corpus."
   ]
  },
  {
   "cell_type": "code",
   "execution_count": 43,
   "id": "rational-underwear",
   "metadata": {},
   "outputs": [
    {
     "data": {
      "text/plain": [
       "array([1, 0, 0, 2, 1])"
      ]
     },
     "execution_count": 43,
     "metadata": {},
     "output_type": "execute_result"
    }
   ],
   "source": [
    "cities = ['London', 'Berlin', 'Berlin', 'New York', 'London']\n",
    "from sklearn.preprocessing import LabelEncoder\n",
    "encoder = LabelEncoder()\n",
    "city_labels = encoder.fit_transform(cities)\n",
    "city_labels"
   ]
  },
  {
   "cell_type": "markdown",
   "id": "southeast-brass",
   "metadata": {},
   "source": [
    " ##### OneHotEncoder\n",
    " On  peut utiliser le OneHotEncoder fourni par scikit-learn pour encoder les valeurs catégorielles que nous avons obtenues précédemment dans un tableau numérique encodé à un coup. OneHotEncoder s'attend à ce que chaque valeur catégorielle soit dans une ligne séparée, donc vous devrez remodeler le tableau, puis vous pourrez appliquer l'encodeur.\n",
    "Cette manière de faire est surtout utilisé pour les catégories. Ces catégories peuvent être par exemple la ville, le département ou d'autres catégories."
   ]
  },
  {
   "cell_type": "code",
   "execution_count": 44,
   "id": "daily-virgin",
   "metadata": {},
   "outputs": [
    {
     "data": {
      "text/plain": [
       "array([[0., 1., 0.],\n",
       "       [1., 0., 0.],\n",
       "       [1., 0., 0.],\n",
       "       [0., 0., 1.],\n",
       "       [0., 1., 0.]])"
      ]
     },
     "execution_count": 44,
     "metadata": {},
     "output_type": "execute_result"
    }
   ],
   "source": [
    "from sklearn.preprocessing import OneHotEncoder\n",
    "\n",
    "encoder = OneHotEncoder(sparse=False)\n",
    "city_labels = city_labels.reshape((5, 1))\n",
    "encoder.fit_transform(city_labels)"
   ]
  },
  {
   "cell_type": "markdown",
   "id": "indie-brave",
   "metadata": {},
   "source": [
    "##### Word Embeddings\n",
    "\n",
    "Cette méthode représente les mots sous forme de vecteurs de mots denses (également appelés \"word embeddings\"). Cela signifie que les 'Embeddings' de mots rassemblent plus d'informations dans moins de dimensions.\n",
    "l'objectif est de représenter la signification sémantique dans un espace géométrique, appellé embedding space.\n",
    "L'embedding prend en compte la relation entre les mots, ainsi des choses comme l'arithmétique vectorielle devraient devenir possibles. Un exemple célèbre dans ce domaine:  King - Man + Woman = Queen \n",
    "deux options pour faire pour mettre en place l'embedding : \n",
    "- Les former pendant la formation du réseau neuronal. \n",
    "- L'autre possibilité consiste à utiliser des 'Embeddings' de mots pré-formés qu on peut directement utiliser dans le modèle.\n",
    "On commence par tokeniser les données dans un format qui peut être utilisé par les Embeddings de mots. Keras propose quelques méthodes pratiques pour   preprocessing and sequence preprocessing"
   ]
  },
  {
   "cell_type": "code",
   "execution_count": 45,
   "id": "hawaiian-daughter",
   "metadata": {},
   "outputs": [
    {
     "name": "stdout",
     "output_type": "stream",
     "text": [
      "Playing some games before I leave for work   Work til at least 11PM tonight.\n",
      "[377, 73, 1323, 227, 1, 349, 11, 43, 43, 602, 24, 358, 6401, 118]\n"
     ]
    }
   ],
   "source": [
    "from keras.preprocessing.text import Tokenizer\n",
    "tokenizer = Tokenizer(num_words=50000)\n",
    "\n",
    "sentences_train, sentences_test, y_train, y_test = train_test_split(corpus,targets, test_size =0.2, random_state=42)\n",
    "tokenizer.fit_on_texts(sentences_train)\n",
    "\n",
    "X_train = tokenizer.texts_to_sequences(sentences_train)\n",
    "X_test = tokenizer.texts_to_sequences(sentences_test)\n",
    "\n",
    "# Adding 1 because of reserved 0 index\n",
    "vocab_size = len(tokenizer.word_index) + 1 \n",
    "\n",
    "\n",
    "print(sentences_train[2])\n",
    "print(X_train[2])"
   ]
  },
  {
   "cell_type": "code",
   "execution_count": 46,
   "id": "detected-hughes",
   "metadata": {},
   "outputs": [
    {
     "data": {
      "text/plain": [
       "42030"
      ]
     },
     "execution_count": 46,
     "metadata": {},
     "output_type": "execute_result"
    }
   ],
   "source": [
    "vocab_size"
   ]
  },
  {
   "cell_type": "markdown",
   "id": "delayed-westminster",
   "metadata": {},
   "source": [
    "L'indexation est ordonnée d'après les mots les plus courants du texte, ce que vous pouvez voir par le mot le ayant l'index 1 : \"I\"\n",
    "Les mots inconnus (mots qui ne font pas partie du vocabulaire) sont désignés dans Keras par word_count + 1 car ils peuvent également contenir des informations."
   ]
  },
  {
   "cell_type": "code",
   "execution_count": 47,
   "id": "accessory-lightweight",
   "metadata": {},
   "outputs": [
    {
     "name": "stdout",
     "output_type": "stream",
     "text": [
      "i: 1\n",
      "all: 30\n",
      "happy: 49\n",
      "sad: 114\n"
     ]
    }
   ],
   "source": [
    "for word in ['i', 'all', 'happy', 'sad']:\n",
    "    print('{}: {}'.format(word, tokenizer.word_index[word]))"
   ]
  },
  {
   "cell_type": "markdown",
   "id": "personalized-review",
   "metadata": {},
   "source": [
    "#### La différence \n",
    "Avec CountVectorizer, nous avions des vecteurs empilés de comptes de mots, et chaque vecteur était de la même longueur (la taille du vocabulaire total du corpus). \n",
    "Avec Tokenizer, les vecteurs résultants sont égaux à la longueur de chaque texte, et les nombres n'indiquent pas le nombre de mots, mais correspondent plutôt aux valeurs des mots du dictionnaire \"tokenizer.word_index.\"\n",
    "Un problème  rencontré est que chaque séquence de texte a, dans la plupart des cas, une longueur de mots différente. Pour y remédier, on peut utiliser pad_sequence() qui ajoute simplement des zéros à la séquence de mots.\n",
    "On peut ajouter un paramètre maxlen pour spécifier la longueur des séquences. Cela coupe les séquences qui dépassent ce nombre. "
   ]
  },
  {
   "cell_type": "code",
   "execution_count": 48,
   "id": "precise-fancy",
   "metadata": {},
   "outputs": [],
   "source": [
    "from keras.preprocessing.sequence import pad_sequences\n",
    "maxlen = 100\n",
    "\n",
    "X_train = pad_sequences(X_train, padding='post', maxlen=maxlen)\n",
    "X_test = pad_sequences(X_test, padding='post', maxlen=maxlen)\n"
   ]
  },
  {
   "cell_type": "code",
   "execution_count": 49,
   "id": "stuffed-adobe",
   "metadata": {},
   "outputs": [
    {
     "name": "stdout",
     "output_type": "stream",
     "text": [
      "[12997   881  2206  5306  1262     0     0     0     0     0     0     0\n",
      "     0     0     0     0     0     0     0     0     0     0     0     0\n",
      "     0     0     0     0     0     0     0     0     0     0     0     0\n",
      "     0     0     0     0     0     0     0     0     0     0     0     0\n",
      "     0     0     0     0     0     0     0     0     0     0     0     0\n",
      "     0     0     0     0     0     0     0     0     0     0     0     0\n",
      "     0     0     0     0     0     0     0     0     0     0     0     0\n",
      "     0     0     0     0     0     0     0     0     0     0     0     0\n",
      "     0     0     0     0]\n"
     ]
    }
   ],
   "source": [
    " print(X_train[0, :])"
   ]
  },
  {
   "cell_type": "markdown",
   "id": "plastic-sound",
   "metadata": {},
   "source": [
    "#### Embedding Layer\n",
    "on peut utiliser la couche Embedding de Keras qui prend les entiers calculés précédemment et les transforme en un vecteur dense Embedding. on aura besoin des paramètres suivants :\n",
    "\n",
    "    input_dim: the size of the vocabulary\n",
    "    output_dim: the size of the dense vector\n",
    "    input_length: the length of the sequence\n",
    "\n"
   ]
  },
  {
   "cell_type": "code",
   "execution_count": 50,
   "id": "external-verification",
   "metadata": {},
   "outputs": [
    {
     "name": "stdout",
     "output_type": "stream",
     "text": [
      "Model: \"sequential\"\n",
      "_________________________________________________________________\n",
      "Layer (type)                 Output Shape              Param #   \n",
      "=================================================================\n",
      "embedding (Embedding)        (None, 100, 50)           2101500   \n",
      "_________________________________________________________________\n",
      "flatten (Flatten)            (None, 5000)              0         \n",
      "_________________________________________________________________\n",
      "dense (Dense)                (None, 26)                130026    \n",
      "_________________________________________________________________\n",
      "dense_1 (Dense)              (None, 13)                351       \n",
      "=================================================================\n",
      "Total params: 2,231,877\n",
      "Trainable params: 2,231,877\n",
      "Non-trainable params: 0\n",
      "_________________________________________________________________\n"
     ]
    }
   ],
   "source": [
    "from keras.models import Sequential\n",
    "from keras import layers\n",
    "\n",
    "embedding_dim = 50\n",
    "\n",
    "clear_session()\n",
    "model = Sequential()\n",
    "model.add(layers.Embedding(input_dim=vocab_size, \n",
    "                           output_dim=embedding_dim, \n",
    "                           input_length=maxlen))\n",
    "model.add(layers.Flatten())\n",
    "model.add(layers.Dense(26, activation='relu'))\n",
    "model.add(layers.Dense(13, activation='softmax'))\n",
    "model.compile(optimizer='adam',\n",
    "             loss='sparse_categorical_crossentropy',\n",
    "              metrics=['accuracy'])\n",
    "model.summary()\n",
    "\n",
    "\n"
   ]
  },
  {
   "cell_type": "markdown",
   "id": "posted-serve",
   "metadata": {},
   "source": [
    "Nous avons  2101500   params à entrainer.\n",
    "Ce nombre provient de vocab_size multiplié par embedding_dim. Ces poids de la couche d'embedding sont initialisés avec des poids aléatoires et sont ensuite ajustés par rétropropagation pendant l'apprentissage. Ce modèle prend les mots comme ils viennent dans l'ordre des phrases comme vecteurs d'entrée. "
   ]
  },
  {
   "cell_type": "code",
   "execution_count": 51,
   "id": "smaller-consistency",
   "metadata": {},
   "outputs": [
    {
     "name": "stdout",
     "output_type": "stream",
     "text": [
      "Epoch 1/5\n",
      "32/32 [==============================] - 5s 123ms/step - loss: 2.3968 - accuracy: 0.1949 - val_loss: 2.1903 - val_accuracy: 0.2551\n",
      "Epoch 2/5\n",
      "32/32 [==============================] - 4s 119ms/step - loss: 2.1589 - accuracy: 0.2596 - val_loss: 2.1197 - val_accuracy: 0.2621\n",
      "Epoch 3/5\n",
      "32/32 [==============================] - 4s 113ms/step - loss: 2.0713 - accuracy: 0.2812 - val_loss: 2.0635 - val_accuracy: 0.2965\n",
      "Epoch 4/5\n",
      "32/32 [==============================] - 4s 116ms/step - loss: 1.9797 - accuracy: 0.3364 - val_loss: 2.0134 - val_accuracy: 0.3069\n",
      "Epoch 5/5\n",
      "32/32 [==============================] - 4s 114ms/step - loss: 1.8496 - accuracy: 0.3940 - val_loss: 1.9795 - val_accuracy: 0.3206\n",
      "1000/1000 [==============================] - 24s 24ms/step - loss: 1.7250 - accuracy: 0.4631\n",
      "Training Accuracy: 0.4631\n",
      "250/250 [==============================] - 6s 25ms/step - loss: 1.9795 - accuracy: 0.3206\n",
      "Testing Accuracy:  0.3206\n"
     ]
    },
    {
     "data": {
      "image/png": "[encoded data removed]",
      "text/plain": [
       "<Figure size 864x360 with 2 Axes>"
      ]
     },
     "metadata": {},
     "output_type": "display_data"
    }
   ],
   "source": [
    "\n",
    "history = model.fit(X_train, y_train,\n",
    "                    epochs=5,\n",
    "                    verbose=True,\n",
    "                    validation_data=(X_test, y_test),\n",
    "                    batch_size=1000)\n",
    "\n",
    "loss, accuracy = model.evaluate(X_train, y_train, verbose=True)\n",
    "print(\"Training Accuracy: {:.4f}\".format(accuracy))\n",
    "loss, accuracy = model.evaluate(X_test, y_test, verbose=True)\n",
    "print(\"Testing Accuracy:  {:.4f}\".format(accuracy))\n",
    "plot_history(history)\n"
   ]
  },
  {
   "cell_type": "code",
   "execution_count": 52,
   "id": "proud-humor",
   "metadata": {},
   "outputs": [],
   "source": [
    "def predEmotion (model, text):\n",
    "    \n",
    "    dict_emotion = dict((k,v) for k, v in zip(listEmotion1,listEmotion))\n",
    "    X_test = tokenizer.texts_to_sequences([text])\n",
    "    print(\"tokenizer.texts \", X_test )\n",
    "    X_test = pad_sequences(X_test, padding='post', maxlen=maxlen)\n",
    "    print(\"pad_sequences \", X_test )\n",
    "    y_pred = model.predict(X_test,verbose = 1)\n",
    "    \n",
    "    print(y_pred)\n",
    "    maxL = np.argmax(y_pred)\n",
    "    print(maxL )\n",
    "  \n",
    "    return ( dict_emotion[maxL])"
   ]
  },
  {
   "cell_type": "code",
   "execution_count": 53,
   "id": "governing-generic",
   "metadata": {},
   "outputs": [
    {
     "name": "stdout",
     "output_type": "stream",
     "text": [
      "tokenizer.texts  [[49, 142, 21, 30, 5, 45]]\n",
      "pad_sequences  [[ 49 142  21  30   5  45   0   0   0   0   0   0   0   0   0   0   0   0\n",
      "    0   0   0   0   0   0   0   0   0   0   0   0   0   0   0   0   0   0\n",
      "    0   0   0   0   0   0   0   0   0   0   0   0   0   0   0   0   0   0\n",
      "    0   0   0   0   0   0   0   0   0   0   0   0   0   0   0   0   0   0\n",
      "    0   0   0   0   0   0   0   0   0   0   0   0   0   0   0   0   0   0\n",
      "    0   0   0   0   0   0   0   0   0   0]]\n",
      "1/1 [==============================] - 0s 135ms/step\n",
      "[[2.8006855e-04 1.5006632e-03 1.4627909e-02 1.2928120e-02 1.4043971e-02\n",
      "  1.1968501e-01 9.4507186e-04 5.3644449e-01 1.6618861e-02 9.7550727e-02\n",
      "  1.7587775e-02 6.8067729e-02 9.9719547e-02]]\n",
      "7\n"
     ]
    },
    {
     "data": {
      "text/plain": [
       "'love'"
      ]
     },
     "execution_count": 53,
     "metadata": {},
     "output_type": "execute_result"
    }
   ],
   "source": [
    "y = predEmotion (model, \"Happy Mothers Day  All my love\")\n",
    "y"
   ]
  },
  {
   "cell_type": "markdown",
   "id": "stock-candy",
   "metadata": {},
   "source": [
    "Lorsqu'on travaille avec des données séquentielles, il est  préférable de privilégier les méthodes qui prennent en compte les informations locales et séquentielles plutôt que les informations de position absolue.\n",
    "Une autre manière de faire est d'utiliser une couche MaxPooling1D/AveragePooling1D aprés une couche d'embedding (a way to reduce the size of)\n",
    "\n",
    "Dans le cas du MaxPooling1D, on prend la valeur maximale de toutes les caractéristiques du pool pour chaque dimension de caractéristique.\n",
    "Dans le cas du AveragePooling1D, on prend la moyenne, mais le pooling max semble être plus couramment utilisé car il met en évidence les grandes valeurs.\n"
   ]
  },
  {
   "cell_type": "code",
   "execution_count": 54,
   "id": "collect-landscape",
   "metadata": {},
   "outputs": [
    {
     "name": "stdout",
     "output_type": "stream",
     "text": [
      "Model: \"sequential\"\n",
      "_________________________________________________________________\n",
      "Layer (type)                 Output Shape              Param #   \n",
      "=================================================================\n",
      "embedding (Embedding)        (None, 100, 50)           2101500   \n",
      "_________________________________________________________________\n",
      "global_max_pooling1d (Global (None, 50)                0         \n",
      "_________________________________________________________________\n",
      "dense (Dense)                (None, 26)                1326      \n",
      "_________________________________________________________________\n",
      "dense_1 (Dense)              (None, 13)                351       \n",
      "=================================================================\n",
      "Total params: 2,103,177\n",
      "Trainable params: 2,103,177\n",
      "Non-trainable params: 0\n",
      "_________________________________________________________________\n"
     ]
    }
   ],
   "source": [
    "#from keras.models import Sequential\n",
    "#from keras import layers\n",
    "\n",
    "embedding_dim = 50\n",
    "clear_session()\n",
    "model = Sequential()\n",
    "model.add(layers.Embedding(input_dim=vocab_size, \n",
    "                           output_dim=embedding_dim, \n",
    "                           input_length=maxlen))\n",
    "model.add(layers.GlobalMaxPool1D())\n",
    "model.add(layers.Dense(26, activation='relu'))\n",
    "model.add(layers.Dense(13, activation='softmax'))\n",
    "model.compile(optimizer='adam',\n",
    "             loss='sparse_categorical_crossentropy',\n",
    "              metrics=['accuracy'])\n",
    "model.summary()\n"
   ]
  },
  {
   "cell_type": "code",
   "execution_count": 55,
   "id": "assured-mumbai",
   "metadata": {},
   "outputs": [
    {
     "name": "stdout",
     "output_type": "stream",
     "text": [
      "Epoch 1/5\n",
      "32/32 [==============================] - 5s 141ms/step - loss: 2.5179 - accuracy: 0.1795 - val_loss: 2.3787 - val_accuracy: 0.2410\n",
      "Epoch 2/5\n",
      "32/32 [==============================] - 5s 144ms/step - loss: 2.3176 - accuracy: 0.2449 - val_loss: 2.2072 - val_accuracy: 0.2292\n",
      "Epoch 3/5\n",
      "32/32 [==============================] - 5s 146ms/step - loss: 2.1851 - accuracy: 0.2602 - val_loss: 2.1609 - val_accuracy: 0.2679\n",
      "Epoch 4/5\n",
      "32/32 [==============================] - 4s 140ms/step - loss: 2.1304 - accuracy: 0.2964 - val_loss: 2.1266 - val_accuracy: 0.2800\n",
      "Epoch 5/5\n",
      "32/32 [==============================] - 5s 153ms/step - loss: 2.0845 - accuracy: 0.3206 - val_loss: 2.0849 - val_accuracy: 0.2954\n",
      "1000/1000 [==============================] - 10s 10ms/step - loss: 2.0387 - accuracy: 0.3407\n",
      "Training Accuracy: 0.3407\n",
      "250/250 [==============================] - 2s 8ms/step - loss: 2.0849 - accuracy: 0.2954\n",
      "Testing Accuracy:  0.2954\n"
     ]
    },
    {
     "data": {
      "image/png": "[encoded data removed]",
      "text/plain": [
       "<Figure size 864x360 with 2 Axes>"
      ]
     },
     "metadata": {},
     "output_type": "display_data"
    }
   ],
   "source": [
    "clear_session()\n",
    "history = model.fit(X_train, y_train,\n",
    "                    epochs=5,\n",
    "                    verbose=True,\n",
    "                    validation_data=(X_test, y_test),\n",
    "                    batch_size=1000)\n",
    "loss, accuracy = model.evaluate(X_train, y_train, verbose=True)\n",
    "print(\"Training Accuracy: {:.4f}\".format(accuracy))\n",
    "loss, accuracy = model.evaluate(X_test, y_test, verbose=True)\n",
    "print(\"Testing Accuracy:  {:.4f}\".format(accuracy))\n",
    "plot_history(history)\n"
   ]
  },
  {
   "cell_type": "code",
   "execution_count": 56,
   "id": "liable-hughes",
   "metadata": {},
   "outputs": [
    {
     "data": {
      "text/plain": [
       "42030"
      ]
     },
     "execution_count": 56,
     "metadata": {},
     "output_type": "execute_result"
    }
   ],
   "source": [
    "vocab_size"
   ]
  },
  {
   "cell_type": "code",
   "execution_count": 57,
   "id": "round-pocket",
   "metadata": {},
   "outputs": [],
   "source": [
    "from numpy import array\n",
    "from keras.preprocessing import text\n",
    "from keras.preprocessing.sequence import pad_sequences\n",
    "from keras.models import Sequential\n",
    "from keras.layers import Dense\n",
    "from keras.layers import Flatten\n",
    "from keras.layers.embeddings import Embedding\n",
    "from keras.callbacks import LambdaCallback "
   ]
  },
  {
   "cell_type": "code",
   "execution_count": 58,
   "id": "green-matter",
   "metadata": {},
   "outputs": [
    {
     "name": "stdout",
     "output_type": "stream",
     "text": [
      "length of word2idx =  48997\n"
     ]
    }
   ],
   "source": [
    "# tokenize documents\n",
    "tokenizer = text.Tokenizer()\n",
    "tokenizer.fit_on_texts(corpus)\n",
    "word2idx = tokenizer.word_index\n",
    "print('length of word2idx = ',len(word2idx))\n",
    "#print(word2idx)"
   ]
  },
  {
   "cell_type": "code",
   "execution_count": 60,
   "id": "authorized-interview",
   "metadata": {},
   "outputs": [],
   "source": [
    "# integer encode the documents\n",
    "encoded_docs = [[word2idx[w] for w in text.text_to_word_sequence(doc)] for doc in corpus]\n",
    "#print(encoded_docs)"
   ]
  },
  {
   "cell_type": "code",
   "execution_count": 61,
   "id": "treated-injury",
   "metadata": {},
   "outputs": [
    {
     "name": "stdout",
     "output_type": "stream",
     "text": [
      "37\n"
     ]
    }
   ],
   "source": [
    "longest_list = max(len(elem) for elem in encoded_docs)\n",
    "print(longest_list)"
   ]
  },
  {
   "cell_type": "code",
   "execution_count": 62,
   "id": "dressed-interpretation",
   "metadata": {},
   "outputs": [],
   "source": [
    "# pad documents to a max length of 4 words\n",
    "max_length = 37\n",
    "\n",
    "padded_docs = pad_sequences(encoded_docs, maxlen=max_length, padding='post')\n",
    "#print(padded_docs)"
   ]
  },
  {
   "cell_type": "code",
   "execution_count": 63,
   "id": "running-devon",
   "metadata": {},
   "outputs": [
    {
     "name": "stdout",
     "output_type": "stream",
     "text": [
      "Model: \"sequential\"\n",
      "_________________________________________________________________\n",
      "Layer (type)                 Output Shape              Param #   \n",
      "=================================================================\n",
      "embedding (Embedding)        (None, 37, 50)            2101500   \n",
      "_________________________________________________________________\n",
      "flatten (Flatten)            (None, 1850)              0         \n",
      "_________________________________________________________________\n",
      "dense (Dense)                (None, 13)                24063     \n",
      "=================================================================\n",
      "Total params: 2,125,563\n",
      "Trainable params: 2,125,563\n",
      "Non-trainable params: 0\n",
      "_________________________________________________________________\n",
      "None\n"
     ]
    }
   ],
   "source": [
    "embedding_dim = 50\n",
    "# define the model\n",
    "clear_session()\n",
    "model = Sequential()\n",
    "model.add(Embedding(vocab_size, output_dim=embedding_dim, input_length=max_length ))\n",
    "model.add(Flatten())\n",
    "model.add(Dense(13, activation='softmax'))\n",
    "\n",
    "\n",
    "# compile the model\n",
    "model.compile(optimizer='adam', loss='sparse_categorical_crossentropy', metrics=['accuracy'])\n",
    "# summarize the model\n",
    "print(model.summary())"
   ]
  },
  {
   "cell_type": "code",
   "execution_count": 66,
   "id": "united-documentation",
   "metadata": {},
   "outputs": [],
   "source": [
    "#clear_session()    \n",
    "# fit the model\n",
    "#model.fit(padded_docs, targets, epochs=5, verbose=True )\n",
    "# evaluate the model\n",
    "#loss, accuracy = model.evaluate(padded_docs, targets, verbose=1)\n",
    "#print('Accuracy: %f' % (accuracy*100))\n"
   ]
  },
  {
   "cell_type": "code",
   "execution_count": null,
   "id": "induced-pierre",
   "metadata": {},
   "outputs": [],
   "source": []
  },
  {
   "cell_type": "markdown",
   "id": "internal-hardwood",
   "metadata": {},
   "source": [
    "####  Using Pretrained Word Embeddings\n",
    "\n",
    "Il est possible d'utiliser un embedding précalculer en utilsant un corpus de test plus large; en les entraînant simplement sur un grand corpus de texte. Parmi les méthodes les plus populaires figurent Word2Vec, développé par Google, et GloVe (Global Vectors for Word Representation), développé par le Stanford NLP Group.\n",
    "il s'agit de différentes approches ayant le même objectif. Word2Vec y parvient en utilisant des réseaux neuronaux et GloVe y parvient avec une matrice de cooccurrence et en utilisant la factorisation matricielle. Dans les deux cas, il s'agit de réduire la dimensionnalité, mais Word2Vec est plus précis et GloVe est plus rapide à calculer.\n"
   ]
  },
  {
   "cell_type": "code",
   "execution_count": 67,
   "id": "exposed-forth",
   "metadata": {},
   "outputs": [
    {
     "data": {
      "text/plain": [
       "48997"
      ]
     },
     "execution_count": 67,
     "metadata": {},
     "output_type": "execute_result"
    }
   ],
   "source": [
    "len(tokenizer.word_index)"
   ]
  },
  {
   "cell_type": "code",
   "execution_count": 68,
   "id": "familiar-maximum",
   "metadata": {},
   "outputs": [],
   "source": [
    "\n",
    "import numpy as np\n",
    "\n",
    "def create_embedding_matrix(filepath, word_index, embedding_dim):\n",
    "    vocab_size = len(word_index) + 1  # Adding again 1 because of reserved 0 index\n",
    "    print(\"vocab_size :\", vocab_size)\n",
    "    embedding_matrix = np.zeros((vocab_size, embedding_dim))\n",
    "\n",
    "    with open(filepath) as f:\n",
    "        for line in f:\n",
    "            word, *vector = line.split()\n",
    "            if word in word_index:\n",
    "                idx = word_index[word] \n",
    "                embedding_matrix[idx] = np.array(\n",
    "                    vector, dtype=np.float32)[:embedding_dim]\n",
    "\n",
    "    return embedding_matrix\n"
   ]
  },
  {
   "cell_type": "code",
   "execution_count": 71,
   "id": "musical-healing",
   "metadata": {},
   "outputs": [],
   "source": [
    "embedding_dim = 50\n",
    "embedding_matrix = create_embedding_matrix('glove.6B/glove.6B.50d.txt',\n",
    "okenizer.word_index, embedding_dim)"
   ]
  },
  {
   "cell_type": "code",
   "execution_count": 636,
   "id": "active-twenty",
   "metadata": {},
   "outputs": [
    {
     "data": {
      "text/plain": [
       "array([[ 0.        ,  0.        ,  0.        , ...,  0.        ,\n",
       "         0.        ,  0.        ],\n",
       "       [ 0.11891   ,  0.15255   , -0.082073  , ..., -0.57511997,\n",
       "        -0.26671001,  0.92120999],\n",
       "       [ 0.68046999, -0.039263  ,  0.30186   , ..., -0.073297  ,\n",
       "        -0.064699  , -0.26043999],\n",
       "       ...,\n",
       "       [ 1.18879998,  1.46720004, -0.99624002, ...,  0.48704001,\n",
       "         0.77978998,  0.38242999],\n",
       "       [ 0.013849  , -0.54549998, -0.077683  , ...,  0.67878002,\n",
       "         0.46202999,  0.72376001],\n",
       "       [ 0.023778  , -0.80124003,  0.1193    , ..., -1.06830001,\n",
       "        -0.35703   ,  0.21013001]])"
      ]
     },
     "execution_count": 636,
     "metadata": {},
     "output_type": "execute_result"
    }
   ],
   "source": [
    "embedding_matrix "
   ]
  },
  {
   "cell_type": "markdown",
   "id": "aerial-public",
   "metadata": {},
   "source": [
    "First, let’s have a quick look how many of the embedding vectors are nonzero:"
   ]
  },
  {
   "cell_type": "code",
   "execution_count": 659,
   "id": "identified-occasions",
   "metadata": {},
   "outputs": [
    {
     "data": {
      "text/plain": [
       "0.45869219151802115"
      ]
     },
     "execution_count": 659,
     "metadata": {},
     "output_type": "execute_result"
    }
   ],
   "source": [
    "nonzero_elements = np.count_nonzero(np.count_nonzero(embedding_matrix, axis=1))\n",
    "nonzero_elements / vocab_size"
   ]
  },
  {
   "cell_type": "code",
   "execution_count": 666,
   "id": "democratic-couple",
   "metadata": {},
   "outputs": [
    {
     "name": "stdout",
     "output_type": "stream",
     "text": [
      "Model: \"sequential\"\n",
      "_________________________________________________________________\n",
      "Layer (type)                 Output Shape              Param #   \n",
      "=================================================================\n",
      "embedding (Embedding)        (None, 100, 50)           2449900   \n",
      "_________________________________________________________________\n",
      "global_max_pooling1d (Global (None, 50)                0         \n",
      "_________________________________________________________________\n",
      "dense (Dense)                (None, 100)               5100      \n",
      "_________________________________________________________________\n",
      "dropout (Dropout)            (None, 100)               0         \n",
      "_________________________________________________________________\n",
      "dense_1 (Dense)              (None, 13)                1313      \n",
      "=================================================================\n",
      "Total params: 2,456,313\n",
      "Trainable params: 2,456,313\n",
      "Non-trainable params: 0\n",
      "_________________________________________________________________\n"
     ]
    }
   ],
   "source": [
    "clear_session()\n",
    "model = Sequential()\n",
    "model.add(layers.Embedding(vocab_size, embedding_dim, \n",
    "                           weights=[embedding_matrix], \n",
    "                           input_length=maxlen, \n",
    "                           trainable=True))\n",
    "model.add(layers.GlobalMaxPool1D())\n",
    "#model.add(layers.Dropout(0.5))\n",
    "model.add(layers.Dense(100, activation='relu'))\n",
    "model.add(layers.Dropout(0.5))\n",
    "model.add(layers.Dense(13, activation='softmax'))\n",
    "model.compile(optimizer='adam',\n",
    "               loss='sparse_categorical_crossentropy',\n",
    "              metrics=['accuracy'])\n",
    "model.summary()\n"
   ]
  },
  {
   "cell_type": "code",
   "execution_count": 667,
   "id": "flying-strain",
   "metadata": {},
   "outputs": [
    {
     "name": "stdout",
     "output_type": "stream",
     "text": [
      "Epoch 1/25\n",
      "32/32 [==============================] - 3s 85ms/step - loss: 2.5094 - accuracy: 0.1572 - val_loss: 2.1902 - val_accuracy: 0.2384\n",
      "Epoch 2/25\n",
      "32/32 [==============================] - 2s 76ms/step - loss: 2.2408 - accuracy: 0.2103 - val_loss: 2.1678 - val_accuracy: 0.2428\n",
      "Epoch 3/25\n",
      "32/32 [==============================] - 2s 78ms/step - loss: 2.1952 - accuracy: 0.2192 - val_loss: 2.1562 - val_accuracy: 0.2466\n",
      "Epoch 4/25\n",
      "32/32 [==============================] - 2s 78ms/step - loss: 2.1741 - accuracy: 0.2325 - val_loss: 2.1495 - val_accuracy: 0.2528\n",
      "Epoch 5/25\n",
      "32/32 [==============================] - 3s 81ms/step - loss: 2.1646 - accuracy: 0.2317 - val_loss: 2.1414 - val_accuracy: 0.2542\n",
      "Epoch 6/25\n",
      "32/32 [==============================] - 3s 79ms/step - loss: 2.1486 - accuracy: 0.2388 - val_loss: 2.1376 - val_accuracy: 0.2559\n",
      "Epoch 7/25\n",
      "32/32 [==============================] - 3s 78ms/step - loss: 2.1424 - accuracy: 0.2440 - val_loss: 2.1316 - val_accuracy: 0.2535\n",
      "Epoch 8/25\n",
      "32/32 [==============================] - 3s 78ms/step - loss: 2.1361 - accuracy: 0.2468 - val_loss: 2.1265 - val_accuracy: 0.2551\n",
      "Epoch 9/25\n",
      "32/32 [==============================] - 3s 78ms/step - loss: 2.1245 - accuracy: 0.2531 - val_loss: 2.1222 - val_accuracy: 0.2579\n",
      "Epoch 10/25\n",
      "32/32 [==============================] - 2s 76ms/step - loss: 2.1210 - accuracy: 0.2560 - val_loss: 2.1173 - val_accuracy: 0.2603\n",
      "Epoch 11/25\n",
      "32/32 [==============================] - 3s 83ms/step - loss: 2.1077 - accuracy: 0.2605 - val_loss: 2.1120 - val_accuracy: 0.2634\n",
      "Epoch 12/25\n",
      "32/32 [==============================] - 2s 78ms/step - loss: 2.0870 - accuracy: 0.2695 - val_loss: 2.1052 - val_accuracy: 0.2643\n",
      "Epoch 13/25\n",
      "32/32 [==============================] - 2s 78ms/step - loss: 2.0827 - accuracy: 0.2692 - val_loss: 2.0986 - val_accuracy: 0.2676\n",
      "Epoch 14/25\n",
      "32/32 [==============================] - 3s 85ms/step - loss: 2.0676 - accuracy: 0.2792 - val_loss: 2.0912 - val_accuracy: 0.2702\n",
      "Epoch 15/25\n",
      "32/32 [==============================] - 3s 81ms/step - loss: 2.0521 - accuracy: 0.2858 - val_loss: 2.0841 - val_accuracy: 0.2726\n",
      "Epoch 16/25\n",
      "32/32 [==============================] - 3s 83ms/step - loss: 2.0458 - accuracy: 0.2891 - val_loss: 2.0764 - val_accuracy: 0.2764\n",
      "Epoch 17/25\n",
      "32/32 [==============================] - 2s 77ms/step - loss: 2.0261 - accuracy: 0.2985 - val_loss: 2.0693 - val_accuracy: 0.2759\n",
      "Epoch 18/25\n",
      "32/32 [==============================] - 3s 81ms/step - loss: 1.9994 - accuracy: 0.3105 - val_loss: 2.0598 - val_accuracy: 0.2812\n",
      "Epoch 19/25\n",
      "32/32 [==============================] - 2s 76ms/step - loss: 1.9906 - accuracy: 0.3166 - val_loss: 2.0517 - val_accuracy: 0.2851\n",
      "Epoch 20/25\n",
      "32/32 [==============================] - 2s 76ms/step - loss: 1.9498 - accuracy: 0.3276 - val_loss: 2.0438 - val_accuracy: 0.2906\n",
      "Epoch 21/25\n",
      "32/32 [==============================] - 2s 78ms/step - loss: 1.9251 - accuracy: 0.3419 - val_loss: 2.0391 - val_accuracy: 0.2903\n",
      "Epoch 22/25\n",
      "32/32 [==============================] - 2s 78ms/step - loss: 1.9104 - accuracy: 0.3489 - val_loss: 2.0380 - val_accuracy: 0.2949\n",
      "Epoch 23/25\n",
      "32/32 [==============================] - 2s 77ms/step - loss: 1.8932 - accuracy: 0.3497 - val_loss: 2.0326 - val_accuracy: 0.2974\n",
      "Epoch 24/25\n",
      "32/32 [==============================] - 3s 78ms/step - loss: 1.8633 - accuracy: 0.3623 - val_loss: 2.0350 - val_accuracy: 0.3016\n",
      "Epoch 25/25\n",
      "32/32 [==============================] - 3s 85ms/step - loss: 1.8429 - accuracy: 0.3717 - val_loss: 2.0323 - val_accuracy: 0.3044\n",
      "1000/1000 [==============================] - 7s 7ms/step - loss: 1.7712 - accuracy: 0.3991\n",
      "Training Accuracy: 0.3991\n",
      "250/250 [==============================] - 2s 8ms/step - loss: 2.0323 - accuracy: 0.3044\n",
      "Testing Accuracy:  0.3044\n"
     ]
    },
    {
     "data": {
      "image/png": "[encoded data removed]",
      "text/plain": [
       "<Figure size 864x360 with 2 Axes>"
      ]
     },
     "metadata": {},
     "output_type": "display_data"
    }
   ],
   "source": [
    "\n",
    "history = model.fit(X_train, y_train,\n",
    "                    epochs=25,\n",
    "                    verbose=True,\n",
    "                    validation_data=(X_test, y_test),\n",
    "                    batch_size=1000)\n",
    "loss, accuracy = model.evaluate(X_train, y_train, verbose=True)\n",
    "print(\"Training Accuracy: {:.4f}\".format(accuracy))\n",
    "loss, accuracy = model.evaluate(X_test, y_test, verbose=True)\n",
    "print(\"Testing Accuracy:  {:.4f}\".format(accuracy))\n",
    "plot_history(history)\n"
   ]
  },
  {
   "cell_type": "code",
   "execution_count": 673,
   "id": "clean-hearts",
   "metadata": {},
   "outputs": [
    {
     "name": "stdout",
     "output_type": "stream",
     "text": [
      "Model: \"sequential_3\"\n",
      "_________________________________________________________________\n",
      "Layer (type)                 Output Shape              Param #   \n",
      "=================================================================\n",
      "embedding_3 (Embedding)      (None, 100, 50)           2449900   \n",
      "_________________________________________________________________\n",
      "flatten_1 (Flatten)          (None, 5000)              0         \n",
      "_________________________________________________________________\n",
      "dense_7 (Dense)              (None, 200)               1000200   \n",
      "_________________________________________________________________\n",
      "dense_8 (Dense)              (None, 100)               20100     \n",
      "_________________________________________________________________\n",
      "dense_9 (Dense)              (None, 13)                1313      \n",
      "=================================================================\n",
      "Total params: 3,471,513\n",
      "Trainable params: 3,471,513\n",
      "Non-trainable params: 0\n",
      "_________________________________________________________________\n"
     ]
    }
   ],
   "source": [
    "model = Sequential()\n",
    "model.add(keras.layers.Embedding(vocab_size, embedding_dim, \n",
    "                           weights=[embedding_matrix], \n",
    "                           input_length=maxlen, \n",
    "                           trainable=True))\n",
    "#model.add(keras.layers.LSTM(100, dropout=0.2, recurrent_dropout=0.2))\n",
    "#model.add(keras.layers.LSTM(32))\n",
    "#model.add(keras.layers.GlobalMaxPool1D())\n",
    "model.add(keras.layers.Flatten())\n",
    "model.add(keras.layers.Dense(200, activation='relu'))\n",
    "#model.add(keras.layers.Dense(100, activation='relu'))\n",
    "model.add(keras.layers.Dense(100, activation='relu'))\n",
    "model.add(keras.layers.Dense(13, activation='softmax'))\n",
    "model.compile(optimizer='adam',\n",
    "              loss='sparse_categorical_crossentropy',\n",
    "              metrics=['accuracy'])\n",
    "model.summary()"
   ]
  },
  {
   "cell_type": "code",
   "execution_count": 674,
   "id": "corporate-making",
   "metadata": {},
   "outputs": [
    {
     "name": "stdout",
     "output_type": "stream",
     "text": [
      "Epoch 1/3\n",
      "32/32 [==============================] - 6s 168ms/step - loss: 2.2487 - accuracy: 0.2172 - val_loss: 2.1259 - val_accuracy: 0.2595\n",
      "Epoch 2/3\n",
      "32/32 [==============================] - 5s 152ms/step - loss: 2.0765 - accuracy: 0.2719 - val_loss: 2.1180 - val_accuracy: 0.2542\n",
      "Epoch 3/3\n",
      "32/32 [==============================] - 5s 158ms/step - loss: 2.0076 - accuracy: 0.3061 - val_loss: 2.1188 - val_accuracy: 0.2693\n",
      "1000/1000 [==============================] - 9s 9ms/step - loss: 1.9267 - accuracy: 0.3396\n",
      "Training Accuracy: 0.3396\n",
      "250/250 [==============================] - 3s 12ms/step - loss: 2.1188 - accuracy: 0.2693\n",
      "Testing Accuracy:  0.2693\n"
     ]
    },
    {
     "data": {
      "image/png": "[encoded data removed]",
      "text/plain": [
       "<Figure size 864x360 with 2 Axes>"
      ]
     },
     "metadata": {},
     "output_type": "display_data"
    }
   ],
   "source": [
    "history = model.fit(X_train, y_train,\n",
    "                    epochs=3,\n",
    "                    verbose=True,\n",
    "                    validation_data=(X_test, y_test),\n",
    "                    batch_size=1000)\n",
    "loss, accuracy = model.evaluate(X_train, y_train, verbose=1)\n",
    "print(\"Training Accuracy: {:.4f}\".format(accuracy))\n",
    "loss, accuracy = model.evaluate(X_test, y_test, verbose=1)\n",
    "print(\"Testing Accuracy:  {:.4f}\".format(accuracy))\n",
    "plot_history(history)\n"
   ]
  },
  {
   "cell_type": "markdown",
   "id": "successful-facial",
   "metadata": {},
   "source": [
    "#### Convolutional Neural Networks (CNN)\n",
    " un CNN est un réseau neuronal spécialisé capable de détecter des modèles spécifiques.\n",
    "Utilisés prinicipalement la classification des images et la vision par ordinateur en permettant d'extraire des caractéristiques des images et de les utiliser dans des réseaux neuronaux.\n"
   ]
  },
  {
   "cell_type": "code",
   "execution_count": 353,
   "id": "protective-indiana",
   "metadata": {},
   "outputs": [
    {
     "name": "stdout",
     "output_type": "stream",
     "text": [
      "Model: \"sequential_1\"\n",
      "_________________________________________________________________\n",
      "Layer (type)                 Output Shape              Param #   \n",
      "=================================================================\n",
      "embedding_1 (Embedding)      (None, 100, 100)          4203000   \n",
      "_________________________________________________________________\n",
      "conv1d (Conv1D)              (None, 96, 128)           64128     \n",
      "_________________________________________________________________\n",
      "global_max_pooling1d_1 (Glob (None, 128)               0         \n",
      "_________________________________________________________________\n",
      "dense_2 (Dense)              (None, 26)                3354      \n",
      "_________________________________________________________________\n",
      "dense_3 (Dense)              (None, 13)                351       \n",
      "=================================================================\n",
      "Total params: 4,270,833\n",
      "Trainable params: 4,270,833\n",
      "Non-trainable params: 0\n",
      "_________________________________________________________________\n"
     ]
    }
   ],
   "source": [
    "embedding_dim = 100\n",
    "\n",
    "model = Sequential()\n",
    "# cnn\n",
    "model.add(layers.Embedding(vocab_size, embedding_dim, input_length=maxlen))\n",
    "model.add(layers.Conv1D(128, 5, activation='relu'))\n",
    "model.add(layers.GlobalMaxPooling1D())\n",
    "\n",
    "# dense\n",
    "model.add(layers.Dense(26, activation='relu'))\n",
    "model.add(layers.Dense(13, activation='softmax'))\n",
    "model.compile(optimizer='adam',\n",
    "             loss='sparse_categorical_crossentropy',\n",
    "              metrics=['accuracy'])\n",
    "model.summary()\n"
   ]
  },
  {
   "cell_type": "code",
   "execution_count": 354,
   "id": "universal-recovery",
   "metadata": {},
   "outputs": [
    {
     "name": "stdout",
     "output_type": "stream",
     "text": [
      "Training Accuracy: 0.6888\n",
      "Testing Accuracy:  0.3334\n"
     ]
    },
    {
     "data": {
      "image/png": "[encoded data removed]",
      "text/plain": [
       "<Figure size 864x360 with 2 Axes>"
      ]
     },
     "metadata": {},
     "output_type": "display_data"
    }
   ],
   "source": [
    "clear_session()\n",
    "history = model.fit(X_train, y_train,\n",
    "                    epochs=3,\n",
    "                    verbose=False,\n",
    "                    validation_data=(X_test, y_test),\n",
    "                    batch_size=10)\n",
    "loss, accuracy = model.evaluate(X_train, y_train, verbose=False)\n",
    "print(\"Training Accuracy: {:.4f}\".format(accuracy))\n",
    "loss, accuracy = model.evaluate(X_test, y_test, verbose=False)\n",
    "print(\"Testing Accuracy:  {:.4f}\".format(accuracy))\n",
    "plot_history(history)\n"
   ]
  },
  {
   "cell_type": "markdown",
   "id": "found-design",
   "metadata": {},
   "source": [
    "l'accuracy enregistre un plateau qui ne depasse pas les 35 %  et commence à baiser à patir de la deuxieme itération.\n",
    "\n",
    "Les CNN fonctionnent mieux avec de grands ensembles d'apprentissage où ils sont capables de trouver des généralisations là où un modèle simple comme la régression logistique ne le pourrait pas.\n"
   ]
  },
  {
   "cell_type": "code",
   "execution_count": null,
   "id": "invisible-enhancement",
   "metadata": {},
   "outputs": [],
   "source": []
  }
 ],
 "metadata": {
  "kernelspec": {
   "display_name": "Python 3",
   "language": "python",
   "name": "python3"
  },
  "language_info": {
   "codemirror_mode": {
    "name": "ipython",
    "version": 3
   },
   "file_extension": ".py",
   "mimetype": "text/x-python",
   "name": "python",
   "nbconvert_exporter": "python",
   "pygments_lexer": "ipython3",
   "version": "3.8.8"
  }
 },
 "nbformat": 4,
 "nbformat_minor": 5
}
